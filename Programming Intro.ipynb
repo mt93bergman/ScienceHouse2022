{
 "cells": [
  {
   "cell_type": "markdown",
   "id": "7d63ef29",
   "metadata": {},
   "source": [
    "# Introduction\n"
   ]
  },
  {
   "cell_type": "markdown",
   "id": "14e261c6-1fcd-416f-a9d3-98b5f4e989b5",
   "metadata": {},
   "source": [
    "Computers are an integral part of society. Many of the recent advances in science in the last 60 years were aided by the power of computers, which can perform calculations in a fraction of the time that it takes a human to perform the calculation. As an example, let's see how fast how fast a computer can do the below multiplications. Run the below cell by clicking on it then pressing \"shift+enter\" or \"shift+return\""
   ]
  },
  {
   "cell_type": "code",
   "execution_count": null,
   "id": "ce2e3cac",
   "metadata": {},
   "outputs": [
    {
     "name": "stdout",
     "output_type": "stream",
     "text": [
      "5865133874\n",
      "142188798408\n",
      "3517.5382\n"
     ]
    }
   ],
   "source": [
    "print(20018*292993)\n",
    "print(4901034*29012)\n",
    "print(1.2034*2923)"
   ]
  },
  {
   "cell_type": "markdown",
   "id": "2fa5b163",
   "metadata": {},
   "source": [
    "The computer did it almost instantaneously! Imagine how long it would take you to do the multiplication by hand in comparison. The power of computers from its ability to do these simple operations extremely fast.  "
   ]
  },
  {
   "cell_type": "markdown",
   "id": "32098cfa",
   "metadata": {},
   "source": [
    "Today, we are going to do two activities to see how computers can be applied to the problem of microplastic pollution: breakdown of microplastics of by bacterial enzymes, and aggregation of microplastics in bodies of water. While the examples we will be going over today are very simplified, these sorts of analyses are being used by researchers today to understand how microplastics behave and how we can address this growing problem. Before we do these two examples, let's begin with a quick introduction to computer programming."
   ]
  },
  {
   "cell_type": "markdown",
   "id": "aef15d45-3a5a-4714-9b59-b8d785b37665",
   "metadata": {},
   "source": [
    "# Python Programming Tutorial"
   ]
  },
  {
   "cell_type": "markdown",
   "id": "feec3c96",
   "metadata": {},
   "source": [
    "Everything we will be using today was written in a programming language called Python, one of the most popular programming languages nowadays. A simple Python program is shown in the cell below. As before, you can execute this cell by clicking on it then pressing \"shift+enter\" or \"shift+return\""
   ]
  },
  {
   "cell_type": "code",
   "execution_count": 2,
   "id": "08d16242-c443-4048-a7f1-d30be92186cc",
   "metadata": {},
   "outputs": [
    {
     "name": "stdout",
     "output_type": "stream",
     "text": [
      "2\n"
     ]
    }
   ],
   "source": [
    "print(1+1)"
   ]
  },
  {
   "cell_type": "markdown",
   "id": "ffc0961a-867c-4617-ad0c-163e8850a891",
   "metadata": {},
   "source": [
    "All this program does is print the result of \"1 + 1\", which is obviously 2. This is not particularly exciting, so let's try something more complex. A useful tool in python is the \"variable\", which lets us store information that our program can manipulate and reference later. Some examples of different types of variables are shown in the cell below:"
   ]
  },
  {
   "cell_type": "code",
   "execution_count": 3,
   "id": "7e0780da-267d-4893-9bb6-4ff02c4b370f",
   "metadata": {},
   "outputs": [],
   "source": [
    "a = 1 #this is an \"integer\" variable, meaning it has no decimal part\n",
    "b = 1.2 #this is a \"float\" variable, meaning it has a decimal part\n",
    "c = 'Hello' #this is a \"string\" variable, meaning it contains words or letters\n",
    "d = [1,1.2,'Hello'] #this is a \"list\" variable, meaning it contains other values or variables"
   ]
  },
  {
   "cell_type": "markdown",
   "id": "c3da8749-81ba-4159-8c61-dc99c5bd1af4",
   "metadata": {},
   "source": [
    "There are other variable types in Python, but these will suffice for our activities today. Each of the above commands put some value into the variable, and one way to check the value currently in a variable is to use the print command as before:"
   ]
  },
  {
   "cell_type": "code",
   "execution_count": null,
   "id": "ba6c8df9-00a2-4bc8-9104-c3955add56c0",
   "metadata": {},
   "outputs": [
    {
     "name": "stdout",
     "output_type": "stream",
     "text": [
      "1\n"
     ]
    }
   ],
   "source": [
    "print(a)"
   ]
  },
  {
   "cell_type": "markdown",
   "id": "30269b10-e23f-4ad4-9eac-d9b672477dd8",
   "metadata": {},
   "source": [
    "Try printing out variables b, c, and d in the below block!"
   ]
  },
  {
   "cell_type": "code",
   "execution_count": 5,
   "id": "b0e98d89-9d84-4031-b7c0-3354af90dcd6",
   "metadata": {},
   "outputs": [],
   "source": [
    "#add print statements here\n",
    "\n",
    "\n"
   ]
  },
  {
   "cell_type": "markdown",
   "id": "cf17c42e-6f49-43ba-9040-d38e6db4b27d",
   "metadata": {},
   "source": [
    "You may have noticed in the above sections that words that appear after the _#_ sign are a different color. These are comments, meaning Python ignores these when running a program. Comments are very useful for letting yourself and others know what things in a program are supposed to be doing."
   ]
  },
  {
   "cell_type": "markdown",
   "id": "18d015e5-792b-451e-a434-a2084af8a5cc",
   "metadata": {},
   "source": [
    "Now that we have assigned values to a, b, c, and d, we can do different things with them! Try changing the variables (or creating new ones) in the below section. Some potential useful commands are: \n",
    "\n",
    "    +: add two variables. Example: a + b\n",
    "    \n",
    "    -: subtract two variable. Example: a - b\n",
    "    \n",
    "    *: multiply two numbers. Example: a*b\n",
    "    \n",
    "    /: divide two numbers. Example: a/b\n",
    "    \n",
    "Try to answer the below questions as you modify the variables:\n",
    "\n",
    "-Can you set a variable equal to another variable?\n",
    "\n",
    "-Can you create a list of variables?\n",
    "\n",
    "-Can you add or multiply different variable types together (for example, can you add a \"string\" and an \"integer\"?)"
   ]
  },
  {
   "cell_type": "code",
   "execution_count": 6,
   "id": "c915f18b-731e-4de4-a99b-b33507c1fb1f",
   "metadata": {},
   "outputs": [],
   "source": [
    "#Create and change your own variables here\n",
    "\n",
    "\n",
    "\n"
   ]
  },
  {
   "cell_type": "markdown",
   "id": "a1b6ed71-168f-4e3d-ba0f-d98c006fa7e8",
   "metadata": {},
   "source": [
    "Another extremely useful tool in Python is the function, which are typically used to perform a certain operation multiple times in a program. One example function is shown below:"
   ]
  },
  {
   "cell_type": "code",
   "execution_count": 7,
   "id": "40b06d2a-cb87-47b4-81a7-c7f6dc5e8b3f",
   "metadata": {},
   "outputs": [],
   "source": [
    "def my_function(a):\n",
    "    return a + 2"
   ]
  },
  {
   "cell_type": "markdown",
   "id": "bf5a87a3-046c-40f8-be03-d583a910f303",
   "metadata": {},
   "source": [
    "Let's break this function down line by line:\n",
    "\n",
    "_def my_function(a):_\n",
    "\n",
    "    \"def\" tells Python that we are about to define a function, and we always need to start with this word\n",
    "\n",
    "    \"my_function\" is the name of the function that we are creating\n",
    "\n",
    "    \"a\" is an argument being passed to the function, meaning the function can use the value of \"a\" \n",
    "    \n",
    "    The \":\" lets Python know that we are about to define what the function does. The remainder of the function needs to be indented so Python can know where the function ends\n",
    "    \n",
    "_return a + 2_\n",
    "\n",
    "    \"return\" tells the function to give the following value back to whatever called the function\n",
    "\n",
    "    \"a + 2\" says to increase the value of \"a\", the variable passed to the fuction, by 2.\n",
    "\n",
    "The above cell only defines the function, but won't actually run anything. To use the function, we can \"call\" it in the below cell"
   ]
  },
  {
   "cell_type": "code",
   "execution_count": 8,
   "id": "0f6b10fd-9b58-4aa6-b1f6-8667fb475a32",
   "metadata": {},
   "outputs": [
    {
     "name": "stdout",
     "output_type": "stream",
     "text": [
      "4\n"
     ]
    }
   ],
   "source": [
    "a = 2\n",
    "b = my_function(a)\n",
    "print(b)"
   ]
  },
  {
   "cell_type": "markdown",
   "id": "69dce8c6-35cf-4f9e-986f-cf9f31336d3c",
   "metadata": {},
   "source": [
    "The function returns the value 4, as we would expecte! Feel free to modify the function yourself in the below block to do something else. Some questions to consider as you are modifying the function:\n",
    "\n",
    "-can you define a variable in a fuction?\n",
    "\n",
    "-can you pass more than one variable to a function?\n",
    "\n",
    "-If you pass a variable to function and then modify it in the function, is the variable changed outside the function too? "
   ]
  },
  {
   "cell_type": "code",
   "execution_count": 9,
   "id": "a88e2bcb-998a-423f-9846-bd472937d220",
   "metadata": {},
   "outputs": [
    {
     "name": "stdout",
     "output_type": "stream",
     "text": [
      "4\n"
     ]
    }
   ],
   "source": [
    "def new_function(a):\n",
    "    return a * 2\n",
    "\n",
    "a = 2\n",
    "b = new_function(a)\n",
    "print(b)"
   ]
  },
  {
   "cell_type": "markdown",
   "id": "dda29a52-fd35-4821-bb1f-319b152ed999",
   "metadata": {},
   "source": [
    "Now that we have a basic understanding of Python, let's make our own function! We will make a fundamental math function: the average. Let's start simple and only pass arguments to our function, and our goal is to find the average of those three numbers. Some of the function has already been written, you just need to fill in the blanks to finish the function. To check that your function works, it is strongly encouraged to try test different values of a, b, and c to make sure you always get the correct answer! If you get stuck, please ask the instructors for help.\n",
    "\n",
    "NOTE 1: recall that you can divide numbers using \"/\", such as \"5/6\". \n",
    "\n",
    "NOTE 2: You can use parentheses to specify order of operations. For example, (1+2)* 3 will be the same as 3 * 3, while 1 + (2*3) is the same as 1 + 6"
   ]
  },
  {
   "cell_type": "code",
   "execution_count": null,
   "id": "5e6b987b-3ecb-444b-97b0-107ce3d0c32c",
   "metadata": {},
   "outputs": [
    {
     "data": {
      "text/plain": [
       "0"
      ]
     },
     "execution_count": 10,
     "metadata": {},
     "output_type": "execute_result"
    }
   ],
   "source": [
    "def average(a,b,c):\n",
    "    average = 0\n",
    "    \n",
    "    #add lines here\n",
    "    \n",
    "    return average\n",
    "\n",
    "a=1\n",
    "b=2\n",
    "c=3\n",
    "average(a,b,c)"
   ]
  },
  {
   "cell_type": "markdown",
   "id": "0c752f2b",
   "metadata": {},
   "source": [
    "Congrats on programming the \"average\" function! However, there is something unsatisfying about this function: we are only able to find the average of three numbers, but if we wanted to find the average of three or four numbers? Let's fix this problem using that _list_ variable we say before. Python has a convenient way to go through all values in a list, as shown below"
   ]
  },
  {
   "cell_type": "code",
   "execution_count": null,
   "id": "68fd08af",
   "metadata": {},
   "outputs": [
    {
     "name": "stdout",
     "output_type": "stream",
     "text": [
      "1\n",
      "2\n",
      "3\n",
      "4\n",
      "5\n"
     ]
    }
   ],
   "source": [
    "my_list = [1,2,3,4,5]\n",
    "\n",
    "for value in my_list:\n",
    "    print(value)"
   ]
  },
  {
   "cell_type": "markdown",
   "id": "493f42ca",
   "metadata": {},
   "source": [
    "The line _for value in my_list:_ says to go through every value in the list, and for each value do what is asked in the indented block below. Let's leverage this feature to update our average function! This version of the function will take in one variable, a list of values, and return the average of the list. This function should work for a list of values of any size! Good luck, and please let the instructors know if you need any help. "
   ]
  },
  {
   "cell_type": "code",
   "execution_count": 12,
   "id": "8feb756e",
   "metadata": {},
   "outputs": [
    {
     "ename": "IndentationError",
     "evalue": "expected an indented block (<ipython-input-12-929d693fe95a>, line 7)",
     "output_type": "error",
     "traceback": [
      "\u001b[0;36m  File \u001b[0;32m\"<ipython-input-12-929d693fe95a>\"\u001b[0;36m, line \u001b[0;32m7\u001b[0m\n\u001b[0;31m    return average\u001b[0m\n\u001b[0m    ^\u001b[0m\n\u001b[0;31mIndentationError\u001b[0m\u001b[0;31m:\u001b[0m expected an indented block\n"
     ]
    }
   ],
   "source": [
    "def better_average(values):\n",
    "    average = 0\n",
    "    num_vals = 0\n",
    "    for value in values:\n",
    "        #add code here\n",
    "    \n",
    "    return average\n",
    "    \n",
    "\n",
    "values = [1,2,3,4,5]\n",
    "better_average(values)"
   ]
  },
  {
   "cell_type": "markdown",
   "id": "046ff22d-44a4-415e-886e-330152a41eae",
   "metadata": {},
   "source": [
    "Congrats again on finishing your second function! Now let's turn to some more exciting examples of how computer programming can be used to understand features of microplastic pollution."
   ]
  },
  {
   "cell_type": "code",
   "execution_count": null,
   "id": "e94a98db",
   "metadata": {},
   "outputs": [],
   "source": []
  }
 ],
 "metadata": {
  "kernelspec": {
   "display_name": "Python 3",
   "language": "python",
   "name": "python3"
  },
  "language_info": {
   "codemirror_mode": {
    "name": "ipython",
    "version": 3
   },
   "file_extension": ".py",
   "mimetype": "text/x-python",
   "name": "python",
   "nbconvert_exporter": "python",
   "pygments_lexer": "ipython3",
   "version": "3.8.8"
  }
 },
 "nbformat": 4,
 "nbformat_minor": 5
}
