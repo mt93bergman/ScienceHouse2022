{
 "cells": [
  {
   "cell_type": "markdown",
   "id": "fbf139a4",
   "metadata": {},
   "source": [
    "# A Simple Dynamic Model of Plastic Aggregation"
   ]
  },
  {
   "cell_type": "markdown",
   "id": "2adbf9cc",
   "metadata": {},
   "source": [
    "# Introduction"
   ]
  },
  {
   "cell_type": "markdown",
   "id": "61382c2d",
   "metadata": {},
   "source": [
    "Simulations are a powerful tool in computational science. Simulations are built using physical laws and allow us to  understand how extremely complex systems behave, such as how the climate is expected to change over the century or how the brain works. Today, we will be using a simulation to investigate the behavior of a mixture of microplastics in water. Specfically, we will be looking at how microplastics aggregate using a very simple model. \"Aggregation\" means that the plastics stick to each other and clump up, rather than staying separated from each other. To model microplastic aggregation, we will model microplastics as spheres of the same size, and any two microplastics that come in contact will stick to each other. Using this simple model, we will try to answer the below questions:\n",
    "\n",
    "    -Does microplastic pollution tend to aggregate or remain isolated?\n",
    "    -How does the aggregation depend on the properties of the plastic and environmental conditions?\n",
    "    -Does the aggregation tendency change as the plastic concentration increases?"
   ]
  },
  {
   "cell_type": "markdown",
   "id": "fef81b8d",
   "metadata": {},
   "source": [
    "# The Simulation Program"
   ]
  },
  {
   "cell_type": "markdown",
   "id": "aec5a64d",
   "metadata": {},
   "source": [
    "Please run the below two cells, which will run and visualize our simulations. As before, run the cell by clicking on it and pressing either \"shift+return\" or \"shift+enter\""
   ]
  },
  {
   "cell_type": "code",
   "execution_count": null,
   "id": "9710780b",
   "metadata": {},
   "outputs": [],
   "source": [
    "%%bash\n",
    "git clone https://github.com/mt93bergman/ScienceHouse2022"
   ]
  },
  {
   "cell_type": "code",
   "execution_count": null,
   "id": "dffdadd5",
   "metadata": {},
   "outputs": [],
   "source": [
    "from ScienceHouse2022.agg import *"
   ]
  },
  {
   "cell_type": "markdown",
   "id": "b2617642",
   "metadata": {},
   "source": [
    "# Running Aggregation Simulations"
   ]
  },
  {
   "cell_type": "markdown",
   "id": "1cd79d64",
   "metadata": {},
   "source": [
    "Running a simulation is very simple - just run the cell below"
   ]
  },
  {
   "cell_type": "code",
   "execution_count": null,
   "id": "3e2678c1",
   "metadata": {},
   "outputs": [],
   "source": [
    "simulate()"
   ]
  },
  {
   "cell_type": "markdown",
   "id": "9e930b35",
   "metadata": {},
   "source": [
    "You should have received the message \"All particles have aggregated, ending program!\". But what actually happened?  Let's call the analyze function to find out. This function will generate two things: a video showing how the trajectories of the plastics, and a plot showing the aggregation of the system. Here, we are describing the aggregation based on the number of clusters in the system. A cluster is any set of plastic particles that are contacting each other. We initially start with 20 clusters because there are a total of 20 particles in the system and no particles have aggregated yet. To load the video, click on the file icon on the left of the screen and download the .mpg file. You may need to click the refresh button to see the video file (the refresh button looks like a folder with a circular arrow in the bottom left corner)."
   ]
  },
  {
   "cell_type": "code",
   "execution_count": null,
   "id": "29024656",
   "metadata": {},
   "outputs": [],
   "source": [
    "analyze()"
   ]
  },
  {
   "cell_type": "markdown",
   "id": "6991094a",
   "metadata": {},
   "source": [
    "The neat thing about simulations is that we can modify the parameters to understand how they influence aggregation. Today we will fiddle with three parameters: The number of particles in the system, the temperature of the system (which corresponds to how fast the particles move), and a _random seed_ which changes the initial velocities given to the particles at the beginning of the simulation. As we modify these variables, see if you can answer the following questions:\n",
    "\n",
    "-Does changing the variable/parameter fundamentally change the behavior of the system?\n",
    "\n",
    "-If the behavior does change, in what way does it change? Does aggregation go faster or slower? \n",
    "\n",
    "-If the behavior does or does not change, why do you think that is the case?"
   ]
  },
  {
   "cell_type": "markdown",
   "id": "5112a46a",
   "metadata": {},
   "source": [
    "Let's begin by modifying the random seed: try a variety of seeds below and run the simulation. Testing different random seeds can help ensure simulation results are not dependent on the random numbers generated by a computer."
   ]
  },
  {
   "cell_type": "code",
   "execution_count": null,
   "id": "c11e9fec",
   "metadata": {},
   "outputs": [],
   "source": [
    "seed = 10300 #change to any number you like and rerun the cell!\n",
    "Anim=False #Change to \"True\" if you would also like to create the animation video\n",
    "\n",
    "simulate(seed=seed)\n",
    "analyze(Anim=Anim) "
   ]
  },
  {
   "cell_type": "markdown",
   "id": "020e1d20",
   "metadata": {},
   "source": [
    "Next let's change the number of particles in the system! Try a variety of values and run the cell below. You can also try changing the random seed as well to see how the behavior varies with different random seeds\n",
    "\n",
    "NOTE: There is an upper limit to the number of particles that can be in the system. Please keep this below 400 or else the program will give an error message and not run"
   ]
  },
  {
   "cell_type": "code",
   "execution_count": null,
   "id": "5f37b0fb",
   "metadata": {},
   "outputs": [],
   "source": [
    "seed = 10300 #feel free to change the random seed again as well!\n",
    "num_particles = 100 #keep this number below 400 or else particles can't fit in the system. \n",
    "\n",
    "Anim=False #Change to \"True\" if you would also like to create the animation video\n",
    "\n",
    "simulate(seed=seed, num_particles=num_particles)\n",
    "analyze(Anim=Anim)"
   ]
  },
  {
   "cell_type": "markdown",
   "id": "35779145",
   "metadata": {},
   "source": [
    "Lastly, let's change the temperature of the system, which corresponds to how fast the particles are moving. As before, you can also change the random seed and number of particles."
   ]
  },
  {
   "cell_type": "code",
   "execution_count": null,
   "id": "4990d152",
   "metadata": {},
   "outputs": [],
   "source": [
    "seed = 1000 #feel free to change the random seed again as well!\n",
    "num_particles = 10 #keep this number below 400 or else particles can't fit in the system. \n",
    "T = 1 #keep this value below 5 so the particles don't move too fast\n",
    "\n",
    "Anim=False #Change to \"True\" if you would also like to create the animation video\n",
    "\n",
    "simulate(seed=seed, num_particles=num_particles, T=T)\n",
    "analyze(Anim=Anim)"
   ]
  },
  {
   "cell_type": "markdown",
   "id": "7b7b6fc1",
   "metadata": {},
   "source": [
    "Now that you have investigated plastic aggregation in these simulations, try to answer the below questions. If necessary, go back and run more simulations to test your hypothesis\n",
    "\n",
    "-How does the number of particles affect the rate of aggregation?\n",
    "\n",
    "-How does the system temperature affect the rate of aggregation?\n",
    "\n",
    "-The difference between simulations with identical arguments except for the random seed corresponds to the expected variability in that system. How does increasing the number of particles or temperature affect the variability between simulations?"
   ]
  },
  {
   "cell_type": "markdown",
   "id": "8c45ec20",
   "metadata": {},
   "source": [
    "You have now successfully run and analyzed a simulation of plastic aggregation! As we conclude, it is very important to again emphasize that our simulations is a very simplified version of how microplastics actually behave. Due to these simplifications, the simulations are not guaranteed to accurately reproduce the actual microplastic aggregation. This makes it crucial for those designing a simulation to ensure that the program accurately captures the behavior they are studying and compare simulations results to experimental data. With this in mind, please answer the below questions:\n",
    "\n",
    "    What do you think are some simplifications that this model makes?\n",
    "    \n",
    "    How could these simplifications be changed to more accurately reflect real life?"
   ]
  },
  {
   "cell_type": "markdown",
   "id": "d65acb9f",
   "metadata": {},
   "source": [
    "In the bigger picture, why should we care about the aggregation of microplastics? As hinted at earlier, aggregation fundamentally changes the behavior of small materials. It can change whether microplastics sink or float in water, the rate at which they are degraded in the environment, and how they interact with tissues and cells in an organisms. On a more positive note, understanding the aggregation tendencies of microplastics may also lead to potential strategies to remediate microplastic pollution. Thus, investigating the aggregation of microplastics is an important step in understanding the environmental and health impacts of microplastics and developing remediation strategies. "
   ]
  }
 ],
 "metadata": {
  "kernelspec": {
   "display_name": "Python 3",
   "language": "python",
   "name": "python3"
  },
  "language_info": {
   "codemirror_mode": {
    "name": "ipython",
    "version": 3
   },
   "file_extension": ".py",
   "mimetype": "text/x-python",
   "name": "python",
   "nbconvert_exporter": "python",
   "pygments_lexer": "ipython3",
   "version": "3.8.8"
  }
 },
 "nbformat": 4,
 "nbformat_minor": 5
}
