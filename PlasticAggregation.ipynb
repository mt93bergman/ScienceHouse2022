{
 "cells": [
  {
   "cell_type": "markdown",
   "id": "fbf139a4",
   "metadata": {},
   "source": [
    "# A Simple Dynamic Model of Plastic Aggregation"
   ]
  },
  {
   "cell_type": "markdown",
   "id": "2adbf9cc",
   "metadata": {},
   "source": [
    "# Introduction"
   ]
  },
  {
   "cell_type": "markdown",
   "id": "61382c2d",
   "metadata": {},
   "source": [
    "Simulations are a powerful tool in computational science. A simulation is built using physical laws, like Newton's laws of motion, and then run to see how some system behaves, such as a mixture of microplastics. In this part of the activity, we will be playing with a very simple simulation that models the aggregation of plastic particles. Aggregation means that the plastics clump together rather than staying unbound and separate from each other. In this simulation, all plastic particles are spheres of the same size, and particles stick to each other any time they come in contact. Let's see what this simple model predicts about microplastic aggregation. Understanding plastic aggregation of microplastics can answer some important questions about microplastic behavior in the environment, such as:\n",
    "\n",
    "    -Does microplastic pollution tend to aggregate or remain isolated?\n",
    "    -How does the aggregation depend on the properties of the plastic and environmental conditions?\n",
    "    -Does the aggregation tendency change as the plastic concentration increases?\n",
    "\n",
    "Answering these question can help us understand where microplastics end up in the environment and may suggest ways to help remove microplastic pollution from the environment. The simple model we are using here won't be able to answer all of these questions, but will still provide some neat insights."
   ]
  },
  {
   "cell_type": "markdown",
   "id": "fef81b8d",
   "metadata": {},
   "source": [
    "# The Program"
   ]
  },
  {
   "cell_type": "markdown",
   "id": "aec5a64d",
   "metadata": {},
   "source": [
    "Please run the below cell so we can run and visualize our simulations"
   ]
  },
  {
   "cell_type": "code",
   "execution_count": 8,
   "id": "dffdadd5",
   "metadata": {},
   "outputs": [],
   "source": [
    "import matplotlib.animation as animation\n",
    "from matplotlib import pyplot as plt\n",
    "from matplotlib.animation import HTMLWriter\n",
    "import numpy as np\n",
    "\n",
    "def p_v_init(num_particles, speed, R, L):\n",
    "    \n",
    "    #initial positions\n",
    "    ps= np.zeros((num_particles,2))\n",
    "    spacing = 1.2*2*R\n",
    "    iters = int(L/spacing)\n",
    "    count = 0\n",
    "    flag = 0\n",
    "    for i in range(iters):\n",
    "        for j in range(iters):\n",
    "            ps[count] = [i*spacing,j*spacing]\n",
    "            count += 1\n",
    "            if count == num_particles:\n",
    "                flag = 1 \n",
    "                break\n",
    "        if flag == 1:\n",
    "            break\n",
    "    if flag == 0:\n",
    "        print('too many particles to fit in system! Decrease N and try again')\n",
    "        exit()\n",
    "        \n",
    "    ps = ps - L*0.5\n",
    "    \n",
    "    #initialize velocities\n",
    "    theta = 2*np.pi*np.random.rand(num_particles)\n",
    "    x_vs = speed*np.cos(theta)\n",
    "    y_vs = speed*np.sin(theta)\n",
    "    x_vs = np.reshape(x_vs, (num_particles,1))\n",
    "    y_vs = np.reshape(y_vs, (num_particles,1))\n",
    "    vs = np.concatenate((x_vs, y_vs), axis=1)\n",
    "    return ps, vs\n",
    "\n",
    "def calc_coll_time(ri, rj, vi, vj, L, D2):\n",
    "    vij = vi-vj\n",
    "    rij = (ri-rj) - L*np.round((ri-rj)/L) \n",
    "    rij2 = np.dot(rij, rij)\n",
    "    \n",
    "    #use quadratic formula to calculate collision time\n",
    "    bij = np.dot(rij, vij)          \n",
    "    \n",
    "    if bij >= 0 : #particles not on correct trajectory to collide\n",
    "        return np.Inf\n",
    "    \n",
    "    vij2 = np.dot(vij, vij)\n",
    "    det = bij**2-(vij2)*(rij2-D2)\n",
    "    vij2 = np.dot(vij, vij)\n",
    "    if det < 0: #particles will not collide\n",
    "        return np.Inf\n",
    "    t_coll = (-bij-(det**.5))/(vij2)\n",
    "    return t_coll \n",
    "    \n",
    "def calc_coll_times_all(collision_times, ps, vs, num_particles, agg_indices, L, D2):\n",
    "    for i in range(num_particles):\n",
    "        for j in range(i+1, num_particles):\n",
    "            if agg_indices[i] != agg_indices[j]:\n",
    "                collision_times[i,j] = calc_coll_time(ps[i], ps[j], vs[i], vs[j], L, D2)\n",
    "    return collision_times\n",
    "\n",
    "def merge_shift_clusters(agg_indices, agg_array, agg_array_lens,agg_clusters, ind1, ind2):\n",
    "    min_c = min(agg_indices[ind1],  agg_indices[ind2])\n",
    "    max_c = max(agg_indices[ind1],  agg_indices[ind2])\n",
    "    for i in range(len(agg_indices)):\n",
    "        if agg_indices[i] == max_c:\n",
    "            agg_indices[i] = min_c\n",
    "        elif agg_indices[i] > max_c:\n",
    "            agg_indices[i] = agg_indices[i] - 1\n",
    "    agg_array[min_c, agg_array_lens[min_c] : agg_array_lens[min_c] + agg_array_lens[max_c]] = agg_array[max_c, 0 : agg_array_lens[max_c]]\n",
    "    agg_array_lens[min_c] += agg_array_lens[max_c]\n",
    "    agg_array_lens[max_c] = 0\n",
    "    for i in range(max_c, agg_clusters-1):\n",
    "        agg_array[i] = agg_array[i+1]\n",
    "        agg_array_lens[i] = agg_array_lens[i+1]\n",
    "    agg_array[agg_clusters-1] = 0\n",
    "    agg_array_lens[agg_clusters-1] = 0\n",
    "\n",
    "def collide(ps, vs, pair, t_coll, agg_array, agg_indices, num_agg, agg_clusters, agg_array_lens, L):\n",
    "    #move everything up to time of collision\n",
    "    ps = ps + t_coll * vs\n",
    "    ps -= L*np.around(ps/L) \n",
    "\n",
    "    v_av = (agg_array_lens[agg_indices[pair[0]]]*vs[pair[0]] + agg_array_lens[agg_indices[pair[1]]]*vs[pair[1]]) \\\n",
    "        / (agg_array_lens[agg_indices[pair[0]]] + agg_array_lens[agg_indices[pair[1]]]) \n",
    "        \n",
    "    v_av = np.sqrt((1.0/np.dot(v_av, v_av))) * v_av\n",
    "  \n",
    "    for i in range(agg_array_lens[agg_indices[pair[0]]]):\n",
    "        vs[agg_array[agg_indices[pair[0]], i]] = v_av\n",
    "    for i in range(agg_array_lens[agg_indices[pair[1]]]):\n",
    "        vs[agg_array[agg_indices[pair[1]], i]] = v_av\n",
    "    \n",
    "    #merge clusters, and shift other cluster numbers as necessary\n",
    "    merge_shift_clusters(agg_indices, agg_array, agg_array_lens, agg_clusters, pair[0], pair[1])\n",
    "    agg_clusters -= 1\n",
    "            \n",
    "    return ps, vs, num_agg, agg_clusters\n",
    "                        \n",
    "def recalc_coll_times(pair, ps, vs, num_particles, ts_next_list, partners_list, agg_indices, L, D2):\n",
    "    ts_next_list[pair[0]] = np.Inf\n",
    "    ts_next_list[pair[1]] = np.Inf\n",
    "    for i in range(num_particles):\n",
    "        for j in pair:\n",
    "            if agg_indices[i] != agg_indices[j]:\n",
    "                t_coll = calc_coll_time(ps[i], ps[j], vs[i], vs[j], L, D2)\n",
    "                if t_coll < ts_next_list[i]:\n",
    "                    ts_next_list[i] = t_coll\n",
    "                    partners_list[i] = j\n",
    "                if t_coll < ts_next_list[j]:\n",
    "                    ts_next_list[j] = t_coll\n",
    "                    partners_list[j] = i\n",
    "\n",
    "def min_ts_all(collision_times, num_particles):\n",
    "    ts_next_list = np.zeros((num_particles,))\n",
    "    partners_list = np.zeros((num_particles,),dtype=int)\n",
    "    t_next = np.inf\n",
    "    t_next_index = num_particles + 1\n",
    "    for i in range(num_particles):\n",
    "        arg_min = np.argmin(collision_times[i])\n",
    "        ts_next_list[i] = collision_times[i,arg_min]\n",
    "        partners_list[i] = arg_min\n",
    "        if collision_times[i,arg_min] < t_next:\n",
    "            t_next_index = i\n",
    "            t_next = collision_times[i,arg_min]\n",
    "    return ts_next_list, partners_list, t_next_index, t_next\n",
    "\n",
    "def write_output(ps, num_particles, output_file, cur_t, agg_indices, agg_clusters):\n",
    "    with open(output_file, 'a') as f:\n",
    "        f.write(f'Time: {cur_t} Clusters: {agg_clusters}\\n')\n",
    "        for i in range(num_particles):\n",
    "            f.write(f'{ps[i,0]:1.4f}   {ps[i,1]:1.4f}   {agg_indices[i]}\\n')\n",
    "\n",
    "def simulate(num_particles=20, T=1, seed=0):\n",
    "    \n",
    "    if T <= 0:\n",
    "        print('T needs to be larger than 0! Please fix and retry')\n",
    "        exit()\n",
    "    elif T > 5:\n",
    "        print('T needs to be smaller than 5! Please fix and retry')\n",
    "        exit()\n",
    "    L = 10\n",
    "    speed = T\n",
    "    R=0.2\n",
    "    D2=(2*R)**2\n",
    "    t_step = 1\n",
    "    t_output = t_step/5\n",
    "    t_total = 100*t_step\n",
    "    output_file = 'Aggregate.txt'\n",
    "    recalc_all_interval = 10\n",
    "    \n",
    "    np.random.seed(seed)\n",
    "    #initialize positions and velocities\n",
    "    ps, vs = p_v_init(num_particles, speed, R, L)\n",
    "     \n",
    "    #initialize aggregated particles\n",
    "    agg_array = -1*np.ones((num_particles, num_particles), dtype=int)\n",
    "    agg_array[:,0] = np.arange(0, num_particles)\n",
    "    agg_array_lens = np.ones((int(np.ceil(num_particles)),), dtype=int)\n",
    "    agg_indices = np.arange(0,num_particles)\n",
    "    num_agg = 0\n",
    "    agg_clusters = num_particles\n",
    "    \n",
    "    #find initial collision times\n",
    "    coll_times = np.full((num_particles, num_particles), np.Inf)\n",
    "    calc_coll_times_all(coll_times, ps, vs, num_particles, agg_indices, L, D2)\n",
    "    ts_next_list, partners_list, t_next_index, t_next = min_ts_all(coll_times, num_particles)\n",
    "    steps_til_recalc_all = recalc_all_interval\n",
    "    \n",
    "    #prep output file\n",
    "    with open(output_file, 'w') as f:\n",
    "        f.write('Running Simulation!\\n')\n",
    "        f.write(f'R: {R}\\n')\n",
    "    \n",
    "    #do main loop\n",
    "    cur_t = 0\n",
    "    flag = 0\n",
    "    time_til_output = t_output\n",
    "    count = 0\n",
    "    write_output(ps, num_particles, output_file, cur_t, agg_indices, agg_clusters)\n",
    "    while(cur_t < t_total):\n",
    "        if t_next < time_til_output:\n",
    "            #perform collision\n",
    "            pair = [t_next_index, partners_list[t_next_index]]\n",
    "            ps, vs, num_agg, agg_clusters = collide(ps, vs, pair, t_next, agg_array, agg_indices, num_agg, agg_clusters, agg_array_lens, L)\n",
    "            cur_t += t_next\n",
    "            time_til_output -= t_next\n",
    "            ts_next_list -= t_next\n",
    "            \n",
    "            #recalculate collision times for particles that just collided\n",
    "            #t_next = np.Inf\n",
    "            #t_next_index = num_particles + 1\n",
    "            for i in range(num_particles):\n",
    "                if i not in pair:\n",
    "                    #First if:  particle was going to collide with either of the two particles that just collided, so update its time\n",
    "                    #Second if: particle was going to collide with particle in new cluster formed, so update its time\n",
    "                    #Third if:  particle was going to collide with particle now in its own cluster, so update its time\n",
    "                    if partners_list[i] in pair or partners_list[i] > num_particles or  \\\n",
    "                    agg_indices[pair[0]] == agg_indices[partners_list[i]] or \\\n",
    "                    agg_indices[i] == agg_indices[partners_list[i]]:\n",
    "                        pair.append(i)\n",
    "                        ts_next_list[i] = np.Inf\n",
    "                        partners_list[i] = num_particles+1\n",
    "            recalc_coll_times(pair, ps, vs, num_particles, ts_next_list, partners_list, agg_indices, L, D2)\n",
    "            \n",
    "            #find next collision to happen\n",
    "            t_next_index = np.argmin(ts_next_list)\n",
    "            t_next = ts_next_list[t_next_index]\n",
    "            \n",
    "            #if all particles have aggregated, then terminate program\n",
    "            if agg_clusters == 1:\n",
    "                write_output(ps, num_particles, output_file, cur_t, agg_indices, agg_clusters)\n",
    "                flag = 1\n",
    "                print('All particles have aggregated, ending program!')\n",
    "                break\n",
    "            #check_overlap(ps, num_particles)\n",
    "        \n",
    "        else:\n",
    "            count += 1\n",
    "            ps = ps + time_til_output*vs\n",
    "            ps -= L*np.around(ps/L) \n",
    "            cur_t += time_til_output\n",
    "            ts_next_list -= time_til_output\n",
    "            t_next -= time_til_output\n",
    "            write_output(ps, num_particles, output_file, cur_t, agg_indices, agg_clusters)\n",
    "            time_til_output = t_output\n",
    "            #check_overlap(ps, num_particles)\n",
    "            \n",
    "            if count == recalc_all_interval:\n",
    "                #periodically recalculate all collision times, since particle collision times only accurate for short time period\n",
    "                coll_times = np.full((num_particles, num_particles), np.Inf)\n",
    "                calc_coll_times_all(coll_times, ps, vs, num_particles, agg_indices, L, D2)\n",
    "                ts_next_list, partners_list, t_next_index, t_next = min_ts_all(coll_times, num_particles)\n",
    "                steps_til_recalc_all = recalc_all_interval\n",
    "                count = 0\n",
    "                    \n",
    "    if flag == 0:\n",
    "        print('Program finished normally!')\n",
    "\n",
    "def analyze(infile='Aggregate.txt', Anim=True, AggPlot=True):\n",
    "\n",
    "    x_lim = [-5, 5]\n",
    "    y_lim = x_lim\n",
    "    file = infile\n",
    "    num_clusters = []\n",
    "    times = [0]\n",
    "    \n",
    "    size = 0\n",
    "    flag = 0\n",
    "    with open(file,'r') as f:\n",
    "        \n",
    "        f.readline(); \n",
    "        vals = f.readline().split()\n",
    "        r_plot = float(vals[1])/10 * 72 * 72 \n",
    "        vals = f.readline().split()\n",
    "        num_clusters.append(int(vals[-1]))\n",
    "        for line in f:\n",
    "            if line[0] == 'T':\n",
    "                break\n",
    "            elif flag == 0:\n",
    "                size += 1\n",
    "            \n",
    "    if Anim:\n",
    "        metadata = dict(title='Movie Test', artist='Matplotlib', comment='Movie support')\n",
    "        writer = HTMLWriter(fps=20, metadata = metadata)  \n",
    "        fig = plt.figure()\n",
    "        fig.set_size_inches(5,5)\n",
    "        #dpi = 100 #default value in matplotlib\n",
    "        ax = plt.gca()\n",
    "        ax.set_xlim(x_lim[0], x_lim[1])\n",
    "        ax.set_ylim(y_lim[0], y_lim[1])\n",
    "        ax.set_xticks(np.arange(x_lim[0], x_lim[1]+1))\n",
    "        ax.set_yticks(np.arange(y_lim[0], y_lim[1]+1))\n",
    "        locs = np.zeros((size,2))\n",
    "        l = plt.scatter(locs[:,0], locs[:,1], s=r_plot)\n",
    "        with open(file, 'r') as f:\n",
    "            with writer.saving(fig, \"writer_test.html\", 100):\n",
    "                f.readline()\n",
    "                f.readline()\n",
    "                f.readline()\n",
    "                i = 0\n",
    "                for line in f:\n",
    "                    vals = line.split()\n",
    "                    if i == size:\n",
    "                      l.set_offsets(locs)\n",
    "                      writer.grab_frame()\n",
    "                      i = 0\n",
    "                    else:\n",
    "                        locs[i,:] = [float(val) for val in vals[0:2]]\n",
    "                        i = i + 1\n",
    "    if AggPlot:\n",
    "        with open(file, 'r') as f:\n",
    "            f.readline()\n",
    "            f.readline()\n",
    "            f.readline()\n",
    "            i = 0\n",
    "            for line in f:\n",
    "                if line[0] == 'T':\n",
    "                    vals = line.split()\n",
    "                    times.append(float(vals[1]))\n",
    "                    num_clusters.append(int(vals[-1]))\n",
    "    \n",
    "        fig2,ax2 = plt.subplots()\n",
    "        ax2.plot(times, num_clusters)\n",
    "        ax2.set_xlabel('Simulation Time')\n",
    "        ax2.set_ylabel('Number of Clusters')\n",
    "        ax2.set_title('Aggregation Behavior')"
   ]
  },
  {
   "cell_type": "markdown",
   "id": "b2617642",
   "metadata": {},
   "source": [
    "# Running Aggregation Simulations"
   ]
  },
  {
   "cell_type": "markdown",
   "id": "1cd79d64",
   "metadata": {},
   "source": [
    "Running a simulation is very simple - just run the cell below"
   ]
  },
  {
   "cell_type": "code",
   "execution_count": null,
   "id": "3e2678c1",
   "metadata": {},
   "outputs": [
    {
     "name": "stdout",
     "output_type": "stream",
     "text": [
      "All particles have aggregated, ending program!\n"
     ]
    }
   ],
   "source": [
    "simulate()"
   ]
  },
  {
   "cell_type": "markdown",
   "id": "9e930b35",
   "metadata": {},
   "source": [
    "You should have received the message \"All particles have aggregated, ending program!\". However, what actually happened? Let's call the analyze function to find out. This will generate two things: an animation showing how the trajectories of the plastics, and a plot showing the aggregation of the system. Here, we are describing the aggregation based on the number of clusters in the system. A cluster is any set of plastic particles that are contacting each other. We initially start with 20 clusters because there are a total of 20 particles in the system and no particles have aggregated yet. "
   ]
  },
  {
   "cell_type": "code",
   "execution_count": 3,
   "id": "29024656",
   "metadata": {},
   "outputs": [
    {
     "data": {
      "image/png": "[encoded data removed]",
      "text/plain": [
       "<Figure size 360x360 with 1 Axes>"
      ]
     },
     "metadata": {
      "needs_background": "light"
     },
     "output_type": "display_data"
    },
    {
     "data": {
      "image/png": "[encoded data removed]",
      "text/plain": [
       "<Figure size 432x288 with 1 Axes>"
      ]
     },
     "metadata": {
      "needs_background": "light"
     },
     "output_type": "display_data"
    }
   ],
   "source": [
    "analyze()"
   ]
  },
  {
   "cell_type": "markdown",
   "id": "6991094a",
   "metadata": {},
   "source": [
    "The neat thing about simulations is that we can modify the parameters to understand how they influence aggregation. Today we will only play with three parameters: The number of particles in the system, the temperature of the system (which corresponds to how fast the particles move), and a _random seed_ which changes the initial velocities given to the particles at the beginning of the simulation. As we modify these variables, see if you can answer the following questions:\n",
    "\n",
    "-Does changing the variable/parameter fundamentally change the behavior of the system?\n",
    "\n",
    "-If the behavior does change, in what way does it change? Does aggregation go faster or slower? \n",
    "\n",
    "-If the behavior does or does not change, why do you think that is the case?"
   ]
  },
  {
   "cell_type": "markdown",
   "id": "5112a46a",
   "metadata": {},
   "source": [
    "Let's begin by modifying the random seed: try a variety of seeds below and run the simulation. Testing different random seeds can be crucial in simulations to ensure the results are not dependent on the random numbers generated by a computer."
   ]
  },
  {
   "cell_type": "code",
   "execution_count": null,
   "id": "c11e9fec",
   "metadata": {},
   "outputs": [
    {
     "name": "stdout",
     "output_type": "stream",
     "text": [
      "All particles have aggregated, ending program!\n"
     ]
    },
    {
     "data": {
      "image/png": "[encoded data removed]",
      "text/plain": [
       "<Figure size 432x288 with 1 Axes>"
      ]
     },
     "metadata": {
      "needs_background": "light"
     },
     "output_type": "display_data"
    }
   ],
   "source": [
    "seed = 10300 #change to any number you like and rerun the cell!\n",
    "Anim=False #Change to \"True\" if you would also like to create the animation video\n",
    "simulate(seed=seed)\n",
    "analyze(Anim=Anim) "
   ]
  },
  {
   "cell_type": "markdown",
   "id": "020e1d20",
   "metadata": {},
   "source": [
    "Next let's change the number of particles in the system! As before, try a variety of values and run the cell below. You may also want to try changing the random seed again for a given number of particles to see how the behavior changes with different random seeds\n",
    "\n",
    "NOTE: There is an upper limit to the number of particles that can be in the system, so please keep below 400 or else the program will give an error message"
   ]
  },
  {
   "cell_type": "code",
   "execution_count": 3,
   "id": "5f37b0fb",
   "metadata": {},
   "outputs": [
    {
     "name": "stdout",
     "output_type": "stream",
     "text": [
      "All particles have aggregated, ending program!\n"
     ]
    },
    {
     "data": {
      "image/png": "[encoded data removed]",
      "text/plain": [
       "<Figure size 432x288 with 1 Axes>"
      ]
     },
     "metadata": {
      "needs_background": "light"
     },
     "output_type": "display_data"
    }
   ],
   "source": [
    "seed = 10300 #feel free to change the random seed again as well!\n",
    "num_particles = 100 #keep this number below 400 or else particles can't fit in the system. \n",
    "\n",
    "Anim=False #Change to \"True\" if you would also like to create the animation video\n",
    "\n",
    "simulate(seed=seed, num_particles=num_particles)\n",
    "analyze(Anim=Anim)"
   ]
  },
  {
   "cell_type": "markdown",
   "id": "35779145",
   "metadata": {},
   "source": [
    "Lastly, let's change the temperature of the system, which corresponds to how fast the particles are moving. As before, try changing the random seed and number of particles as well to see how all three variables interrelate."
   ]
  },
  {
   "cell_type": "code",
   "execution_count": 10,
   "id": "4990d152",
   "metadata": {},
   "outputs": [
    {
     "name": "stdout",
     "output_type": "stream",
     "text": [
      "T needs to be smaller than 5! Please fix and retry\n",
      "All particles have aggregated, ending program!\n"
     ]
    },
    {
     "data": {
      "image/png": "[encoded data removed]",
      "text/plain": [
       "<Figure size 432x288 with 1 Axes>"
      ]
     },
     "metadata": {
      "needs_background": "light"
     },
     "output_type": "display_data"
    }
   ],
   "source": [
    "seed = 1000 #feel free to change the random seed again as well!\n",
    "num_particles = 10 #keep this number below 400 or else particles can't fit in the system. \n",
    "T = 1 #keep this value below 5 so the particles don't move too fast\n",
    "\n",
    "Anim=False #Change to \"True\" if you would also like to create the animation video\n",
    "\n",
    "simulate(seed=seed, num_particles=num_particles, T=T)\n",
    "analyze(Anim=Anim)"
   ]
  },
  {
   "cell_type": "markdown",
   "id": "7b7b6fc1",
   "metadata": {},
   "source": [
    "Now that you have investigated plastic aggregation in these simulations, try to answer the below questions. Test your hypothesis by running more simulations\n",
    "\n",
    "-How does the number of particles affect the rate of aggregation?\n",
    "\n",
    "-How does the system temperature affect the rate of aggregation?\n",
    "\n",
    "-The difference between simulations with identical arguments except for the random seed corresponds to the expected variability in that system. How does increasing the number of particles or temperature affect the variability between simulations?"
   ]
  },
  {
   "cell_type": "markdown",
   "id": "8c45ec20",
   "metadata": {},
   "source": [
    "You have now successfully run and analyzed a simulation of plastic aggregation! As we conclude, it is very important to emphasize that our simulations are based on a model, which inherently is a simplified version of real life. Because the model contains assumptions and simplifications, it is not guaranteed to accurately reproduce actual microplastic aggregation. This makes it crucial for those designing a simulation to ensure that the program accurately captures the behavior they are studying. With this in mind, please answer the below questions:\n",
    "\n",
    "    What do you think are some simplifications that this model makes?\n",
    "    \n",
    "    How could these simplifications be changed to more accurately reflect real life?"
   ]
  },
  {
   "cell_type": "code",
   "execution_count": null,
   "id": "5af539ff",
   "metadata": {},
   "outputs": [],
   "source": []
  }
 ],
 "metadata": {
  "kernelspec": {
   "display_name": "Python 3",
   "language": "python",
   "name": "python3"
  },
  "language_info": {
   "codemirror_mode": {
    "name": "ipython",
    "version": 3
   },
   "file_extension": ".py",
   "mimetype": "text/x-python",
   "name": "python",
   "nbconvert_exporter": "python",
   "pygments_lexer": "ipython3",
   "version": "3.8.8"
  }
 },
 "nbformat": 4,
 "nbformat_minor": 5
}
